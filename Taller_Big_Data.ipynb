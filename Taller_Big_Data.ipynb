{
  "nbformat": 4,
  "nbformat_minor": 0,
  "metadata": {
    "colab": {
      "provenance": []
    },
    "kernelspec": {
      "name": "python3",
      "display_name": "Python 3"
    },
    "language_info": {
      "name": "python"
    }
  },
  "cells": [
    {
      "cell_type": "markdown",
      "source": [
        "#**TALLER**\n",
        "*Alba Tatiana Pizza Gamba* *63191110*\n",
        "\n",
        "*Carlos Andres Patiño Sua* *63182701*"
      ],
      "metadata": {
        "id": "w21Bg6Wmbbi1"
      }
    },
    {
      "cell_type": "markdown",
      "source": [
        "1.Define dos variables, nombre y edad, e imprime un mensaje de saludo que las utilice."
      ],
      "metadata": {
        "id": "gPcaYm01bhKs"
      }
    },
    {
      "cell_type": "code",
      "execution_count": null,
      "metadata": {
        "colab": {
          "base_uri": "https://localhost:8080/"
        },
        "id": "mKDFK-zQbSWv",
        "outputId": "9489969e-cbf4-4f1c-f348-3900187b6d57"
      },
      "outputs": [
        {
          "output_type": "stream",
          "name": "stdout",
          "text": [
            "Hola, mi nombre es Tatiana y tengo 21 años\n"
          ]
        }
      ],
      "source": [
        "Nombre = \"Tatiana\"       #Se establecen las dos variables\n",
        "Edad = 21\n",
        "print(f\"Hola, mi nombre es {Nombre} y tengo {Edad} años\") # Se imprime el mensaje"
      ]
    },
    {
      "cell_type": "markdown",
      "source": [
        "2.Calcula y muestra el área de un círculo. Pide al usuario que ingrese el radio."
      ],
      "metadata": {
        "id": "_axjI8gNcI2M"
      }
    },
    {
      "cell_type": "code",
      "source": [
        "from posixpath import realpath\n",
        "import math\n",
        "print(\"Ingrese el radio del círculo:\") # El usuario debe diligenciar el radio del círculo\n",
        "Radio = float(input())\n",
        "Área = math.pi * (Radio * Radio) # Calcula la ecuación del área del circulo\n",
        "print(\"El área del círculo con radio;\", Radio, \"Es:\", round(Área,2)) # Imprimir el área del círculo con el radio diligenciado"
      ],
      "metadata": {
        "colab": {
          "base_uri": "https://localhost:8080/"
        },
        "id": "puVdf2xTcMxL",
        "outputId": "dbf554a5-1516-4e9b-c606-10a4067ea36e"
      },
      "execution_count": null,
      "outputs": [
        {
          "output_type": "stream",
          "name": "stdout",
          "text": [
            "Ingrese el radio del círculo:\n",
            "38\n",
            "El área del círculo con radio; 38.0 Es: 4536.46\n"
          ]
        }
      ]
    },
    {
      "cell_type": "markdown",
      "source": [
        "3.Escribe una función calcular_promedio que tome una lista de números como argumento y devuelva su promedio.\n"
      ],
      "metadata": {
        "id": "6T4TNlmBd9Iv"
      }
    },
    {
      "cell_type": "code",
      "source": [
        "Nums = []\n",
        "print(\"Escribe la cantidad de números que quieres ingresar\") # El usuario debe diligenciar la cantidad de números a ingresar\n",
        "N = int(input())\n",
        "I = 0\n",
        "while I < N: # # Realizar una ecuación que devuelva el formato de diligenciar la cantidad de números que se escribiero\n",
        "  print(\"Valor número: \", I+1)\n",
        "  Valor = float(input())\n",
        "  Nums.append(Valor)\n",
        "  I+=1\n",
        "Prom = sum(Nums) / len(Nums) # Calcula el promedio de los números\n",
        "print(\"El promedio es: \", Prom) # Imprimir promedio de los números"
      ],
      "metadata": {
        "id": "rrLjnOJetFgc"
      },
      "execution_count": null,
      "outputs": []
    },
    {
      "cell_type": "markdown",
      "source": [
        "4.Crea una lista de números y utiliza un bucle for para mostrar los números mayores que 10."
      ],
      "metadata": {
        "id": "p7ozfmyIe4_6"
      }
    },
    {
      "cell_type": "code",
      "source": [
        "l4 = [12, 2, 3,48,85,7,9,50]  # Se determina la lista"
      ],
      "metadata": {
        "id": "Qh4-V-6Xe9Eq"
      },
      "execution_count": null,
      "outputs": []
    },
    {
      "cell_type": "code",
      "source": [
        "for i in l4:     #El bucle for recorre cada elemento i en la lista l4\n",
        "  if i > 10:\n",
        "    print(i)"
      ],
      "metadata": {
        "colab": {
          "base_uri": "https://localhost:8080/"
        },
        "id": "0TZgvq3ZfK1-",
        "outputId": "4f1d8dfe-ff59-4765-8418-e5a1ee26103c"
      },
      "execution_count": null,
      "outputs": [
        {
          "output_type": "stream",
          "name": "stdout",
          "text": [
            "12\n",
            "48\n",
            "85\n",
            "50\n"
          ]
        }
      ]
    },
    {
      "cell_type": "markdown",
      "source": [
        "5.Define un diccionario que almacene los precios de tres productos diferentes. Pide al usuario que ingrese el nombre de un producto y muestra su precio."
      ],
      "metadata": {
        "id": "_kewL3drePK3"
      }
    },
    {
      "cell_type": "code",
      "source": [
        "d = {'arroz': 21950,\n",
        "     'chocolate': 18950,\n",
        "     'panela':12250,}\n",
        "type(d)\n",
        "d['chocolate']"
      ],
      "metadata": {
        "colab": {
          "base_uri": "https://localhost:8080/"
        },
        "id": "sFaCnYBMfcNA",
        "outputId": "1dd467cf-9753-4105-c926-d315be09e723"
      },
      "execution_count": null,
      "outputs": [
        {
          "output_type": "execute_result",
          "data": {
            "text/plain": [
              "18950"
            ]
          },
          "metadata": {},
          "execution_count": 16
        }
      ]
    },
    {
      "cell_type": "markdown",
      "source": [
        "6.Escribe una función es_primo que determine si un número dado es primo o no."
      ],
      "metadata": {
        "id": "9pX1pX0_gNBr"
      }
    },
    {
      "cell_type": "code",
      "source": [
        " def es_primo(numero):\n",
        "     if numero == 1:\n",
        "         return False   #Si el número es igual a 1, se retorna False.\n",
        "     elif numero == 2:\n",
        "         return True    #Si el número es igual a 2, se retorna True\n",
        "     else:\n",
        "         for  i in range (2, numero):\n",
        "              if numero % i == 0:\n",
        "                 return False\n",
        "         return True"
      ],
      "metadata": {
        "id": "XvfSv7ZsA4Nm"
      },
      "execution_count": null,
      "outputs": []
    },
    {
      "cell_type": "code",
      "source": [
        "for i in range(1, 101):\n",
        "    print(i,es_primo(i))"
      ],
      "metadata": {
        "colab": {
          "base_uri": "https://localhost:8080/"
        },
        "id": "IOMGLKl2CTO6",
        "outputId": "8b0a4feb-46b7-4c69-d9ef-d6b61f07940f"
      },
      "execution_count": null,
      "outputs": [
        {
          "output_type": "stream",
          "name": "stdout",
          "text": [
            "1 False\n",
            "2 True\n",
            "3 True\n",
            "4 False\n",
            "5 True\n",
            "6 False\n",
            "7 True\n",
            "8 False\n",
            "9 False\n",
            "10 False\n",
            "11 True\n",
            "12 False\n",
            "13 True\n",
            "14 False\n",
            "15 False\n",
            "16 False\n",
            "17 True\n",
            "18 False\n",
            "19 True\n",
            "20 False\n",
            "21 False\n",
            "22 False\n",
            "23 True\n",
            "24 False\n",
            "25 False\n",
            "26 False\n",
            "27 False\n",
            "28 False\n",
            "29 True\n",
            "30 False\n",
            "31 True\n",
            "32 False\n",
            "33 False\n",
            "34 False\n",
            "35 False\n",
            "36 False\n",
            "37 True\n",
            "38 False\n",
            "39 False\n",
            "40 False\n",
            "41 True\n",
            "42 False\n",
            "43 True\n",
            "44 False\n",
            "45 False\n",
            "46 False\n",
            "47 True\n",
            "48 False\n",
            "49 False\n",
            "50 False\n",
            "51 False\n",
            "52 False\n",
            "53 True\n",
            "54 False\n",
            "55 False\n",
            "56 False\n",
            "57 False\n",
            "58 False\n",
            "59 True\n",
            "60 False\n",
            "61 True\n",
            "62 False\n",
            "63 False\n",
            "64 False\n",
            "65 False\n",
            "66 False\n",
            "67 True\n",
            "68 False\n",
            "69 False\n",
            "70 False\n",
            "71 True\n",
            "72 False\n",
            "73 True\n",
            "74 False\n",
            "75 False\n",
            "76 False\n",
            "77 False\n",
            "78 False\n",
            "79 True\n",
            "80 False\n",
            "81 False\n",
            "82 False\n",
            "83 True\n",
            "84 False\n",
            "85 False\n",
            "86 False\n",
            "87 False\n",
            "88 False\n",
            "89 True\n",
            "90 False\n",
            "91 False\n",
            "92 False\n",
            "93 False\n",
            "94 False\n",
            "95 False\n",
            "96 False\n",
            "97 True\n",
            "98 False\n",
            "99 False\n",
            "100 False\n"
          ]
        }
      ]
    },
    {
      "cell_type": "markdown",
      "source": [
        "7.Crea una lista de nombres y utiliza un bucle while para imprimir cada nombre hasta que encuentres el nombre \"Alex\"."
      ],
      "metadata": {
        "id": "wjJpJp-qgg5J"
      }
    },
    {
      "cell_type": "code",
      "source": [
        "Nombres = [\"Andrea\", \"Juan\", \"Alejandra\", \"Andres\", \"Camilo\", \"Alex\", \"Diego\", \"Daniela\"]\n",
        "indice = 0  #Se establece una variable indice en 0.\n",
        "while indice < len(Nombres): #Se inicia un bucle while que se ejecutará mientras el valor de indice sea menor que la longitud de la lista Nombres\n",
        "    nombre_actual = Nombres[indice]\n",
        "    print(nombre_actual)\n",
        "    if nombre_actual == \"Alex\":\n",
        "        break    #Si el nombre es \"Alex\", el break detiene el bucle, ignorando el resto de la lista.\n",
        "    indice += 1"
      ],
      "metadata": {
        "colab": {
          "base_uri": "https://localhost:8080/"
        },
        "id": "tJsHY3g3gBYc",
        "outputId": "245c64d1-ba4f-46ec-dd0b-868ce7b185e0"
      },
      "execution_count": null,
      "outputs": [
        {
          "output_type": "stream",
          "name": "stdout",
          "text": [
            "Andrea\n",
            "Juan\n",
            "Alejandra\n",
            "Andres\n",
            "Camilo\n",
            "Alex\n"
          ]
        }
      ]
    },
    {
      "cell_type": "markdown",
      "source": [
        "8.Escribe una función invertir_cadena que tome una cadena como argumento y devuelva la cadena invertida."
      ],
      "metadata": {
        "id": "erHI66OckMk5"
      }
    },
    {
      "cell_type": "code",
      "source": [
        "print(\"Escribe la cadena:\")\n",
        "Texto = input() # Agregar cadena\n",
        "Texto_invertido = ''.join(reversed(Texto)) # Funcion para devolver cadena invertida\n",
        "\n",
        "print(Texto_invertido) # Imprimir cadena invertida"
      ],
      "metadata": {
        "id": "Mb413Izijh6P",
        "colab": {
          "base_uri": "https://localhost:8080/"
        },
        "outputId": "6e64d2ae-e03b-43af-aea8-a1fcd097ec7a"
      },
      "execution_count": null,
      "outputs": [
        {
          "output_type": "stream",
          "name": "stdout",
          "text": [
            "Escribe la cadena:\n",
            "432145\n",
            "541234\n"
          ]
        }
      ]
    },
    {
      "cell_type": "markdown",
      "source": [
        "9.Crea una lista de números pares del 2 al 20 utilizando una comprensión de lista.\n",
        "\n"
      ],
      "metadata": {
        "id": "8y0Fah6JkbAO"
      }
    },
    {
      "cell_type": "code",
      "source": [
        "numeros_pares = [numero for numero in range(2, 21, 2)]\n",
        "print(numeros_pares)"
      ],
      "metadata": {
        "colab": {
          "base_uri": "https://localhost:8080/"
        },
        "id": "Cw7akNnNkczN",
        "outputId": "c5361ff9-7759-4f3f-f952-c264613603ae"
      },
      "execution_count": null,
      "outputs": [
        {
          "output_type": "stream",
          "name": "stdout",
          "text": [
            "[2, 4, 6, 8, 10, 12, 14, 16, 18, 20]\n"
          ]
        }
      ]
    },
    {
      "cell_type": "markdown",
      "source": [
        "10.Escribe un programa que genere los primeros términos de la serie de Fibonacci a discresión del usuario."
      ],
      "metadata": {
        "id": "pILmcluEn6_K"
      }
    },
    {
      "cell_type": "code",
      "source": [
        "Numero = int(input(\"Ingrese la cantidad de números de la secuencia de Fibonacci para calcular:\")) # El usuario debe diligenciar la cantidad de números para la secuencia\n",
        "\n",
        "def Secuencia_Fibonacci(n): # Se realiza la ecuación que define la secuencia Fibonacci\n",
        "  Secuencia_Fib = [0, 1]\n",
        "  while len(Secuencia_Fib) < N:\n",
        "    Siguiente_Fib = Secuencia_Fib[-1] + Secuencia_Fib[-2]\n",
        "    Secuencia_Fib.append(Siguiente_Fib)\n",
        "  return Secuencia_Fib\n",
        "\n",
        "Números_Fibonacci = Secuencia_Fibonacci(Numero) # Se realiza la ecuación para estimar la secuencia con base en la cantidad diligenciada\n",
        "print(\"La secuencia de Fibonacci es:\", Números_Fibonacci) # Imprimir secuencia Fibonacci\n"
      ],
      "metadata": {
        "id": "kSjDUv-Qmryf",
        "colab": {
          "base_uri": "https://localhost:8080/"
        },
        "outputId": "0b0bcdb8-d210-462c-ed81-33c9fe0b3f90"
      },
      "execution_count": null,
      "outputs": [
        {
          "output_type": "stream",
          "name": "stdout",
          "text": [
            "Ingrese la cantidad de números de la secuencia de Fibonacci para calcular:12\n",
            "La secuencia de Fibonacci es: [0, 1, 1, 2]\n"
          ]
        }
      ]
    },
    {
      "cell_type": "markdown",
      "source": [
        "11.Escribe una función calcular_interes_simple que calcule el interés simple dado el principal, la tasa de interés y el tiempo en años."
      ],
      "metadata": {
        "id": "WcCI4WFGoBjg"
      }
    },
    {
      "cell_type": "code",
      "source": [
        "Cantidad = float(input(\"Cantidad:\")) # Variable Cantidad\n",
        "Tiempo = float(input(\"Tiempo en meses:\")) # Variable Tiempo\n",
        "Interes = float(input(\"Interes mensual en %:\")) # Variable Interes\n",
        "\n",
        "def Interes_Simple(Cantidad,Tiempo,Interes): # Calcula la ecuación de interes simple\n",
        "  Interes=(Interes/100)\n",
        "\n",
        "  return Cantidad*Tiempo*Interes\n",
        "\n",
        "print(\"Cantidad:\", Interes_Simple(Cantidad,Tiempo,Interes)+Cantidad) # Imprimir cantidad a pagar\n",
        "print(\"Interes Simple:\", Interes_Simple(Cantidad,Tiempo,Interes)) # Imprimir valor de interes"
      ],
      "metadata": {
        "id": "EascHqnsoFGf",
        "colab": {
          "base_uri": "https://localhost:8080/"
        },
        "outputId": "3d8f79d5-d52d-46dd-e83d-48c1c83f39aa"
      },
      "execution_count": null,
      "outputs": [
        {
          "output_type": "stream",
          "name": "stdout",
          "text": [
            "Cantidad:200000000\n",
            "Tiempo en meses:32\n",
            "Interes mensual en %:5\n",
            "Cantidad: 520000000.0\n",
            "Interes Simple: 320000000.0\n"
          ]
        }
      ]
    },
    {
      "cell_type": "markdown",
      "source": [
        "12.Crea una lista de precios de acciones. Utiliza una función para calcular el promedio de esos precios.\n",
        "\n"
      ],
      "metadata": {
        "id": "6GnsI2wloGEB"
      }
    },
    {
      "cell_type": "code",
      "source": [
        "Nums = []\n",
        "print(\"Escribe la cantidad de acciones en USD que quieres ingresar\") # El usuario debe diligenciar la cantidad de acciones a ingresar\n",
        "N = int(input()) # Variable de cantidad\n",
        "I=0\n",
        "while I<N:\n",
        "  print(\"Valor acción:\", I+1) # Realizar una ecuación que devuelva el formato de diligenciar la cantidad de acciones que se escribieron\n",
        "  Val = float(input())\n",
        "  Nums.append(Val)\n",
        "  I+=1\n",
        "Prom = sum(Nums) / len(Nums) # Calcular el promedio de las acciones\n",
        "print(\"El promedio de las acciones es:\", Prom) # Imprimir promedio de las acciones366"
      ],
      "metadata": {
        "id": "6p_BdTzhoLk1",
        "colab": {
          "base_uri": "https://localhost:8080/"
        },
        "outputId": "26443695-c642-4cc2-89c2-0167c055d73c"
      },
      "execution_count": null,
      "outputs": [
        {
          "output_type": "stream",
          "name": "stdout",
          "text": [
            "Escribe la cantidad de acciones en USD que quieres ingresar\n",
            "4\n",
            "Valor acción: 1\n",
            "1250\n",
            "Valor acción: 2\n",
            "2150\n",
            "Valor acción: 3\n",
            "1230\n",
            "Valor acción: 4\n",
            "1250\n",
            "El promedio de las acciones es: 1470.0\n"
          ]
        }
      ]
    },
    {
      "cell_type": "markdown",
      "source": [
        "13.Escribe una función convertir_dolares_a_euros que tome una cantidad en dólares y la convierta a euros (usando una tasa de cambio fija)."
      ],
      "metadata": {
        "id": "4ScSuqyPoMKH"
      }
    },
    {
      "cell_type": "code",
      "source": [
        "Precio_Dolar = float(input(\"Ingrese el precio actual del dólar frente al euro:\")) # Crear variable para que el usuario escriba la tasa de cambio Dólar/Euro\n",
        "Dolares = float(input(\"Ingrese la cantidad de dólares a convertir:\")) # Crear variable para que el usuario escriba la cantidad de dólares que quiere convertir\n",
        "\n",
        "Cantidad_Euros= Dolares*Precio_Dolar # Realizar una ecuación que devuelva el valor de los dólares en euros respecto a la tasa de cambio\n",
        "\n",
        "print(Dolares, \"Dólares equivalen a:\", Cantidad_Euros, \"Euros\") # Imprimir el valor de los dólares en euros"
      ],
      "metadata": {
        "colab": {
          "base_uri": "https://localhost:8080/"
        },
        "id": "QEoCXNSxD41v",
        "outputId": "9e25bf46-b91e-4db9-8468-e16603016910"
      },
      "execution_count": null,
      "outputs": [
        {
          "output_type": "stream",
          "name": "stdout",
          "text": [
            "Ingrese el precio actual del dólar frente al euro:0.92\n",
            "Ingrese la cantidad de dólares a convertir:10\n",
            "10.0 Dólares equivalen a: 9.200000000000001 Euros\n"
          ]
        }
      ]
    },
    {
      "cell_type": "markdown",
      "source": [
        "14.Crea una función calcular_factorial que calcule el factorial de un número dado"
      ],
      "metadata": {
        "id": "b3SQn6b6oUMv"
      }
    },
    {
      "cell_type": "code",
      "source": [
        "def calcular_factorial(n):\n",
        "    if n < 0:\n",
        "        return None  # El factorial no está definido para números negativos\n",
        "    elif n == 0 or n == 1:\n",
        "        return 1  # El factorial de 0 y 1 es 1\n",
        "    else:\n",
        "        factorial = 1\n",
        "        for i in range(2, n + 1):\n",
        "            factorial *= i\n",
        "        return factorial\n",
        "\n",
        "numero = int(input(\"Ingresa un número entero: \"))\n",
        "resultado = calcular_factorial(numero)\n",
        "if resultado is None:\n",
        "    print(\"El factorial no está definido para números negativos.\")\n",
        "else:\n",
        "    print(f\"El factorial de {numero} es {resultado}\")\n"
      ],
      "metadata": {
        "id": "r3iVGd6woPkt",
        "colab": {
          "base_uri": "https://localhost:8080/"
        },
        "outputId": "cd370630-3c36-4fdb-c334-47a298990b69"
      },
      "execution_count": null,
      "outputs": [
        {
          "output_type": "stream",
          "name": "stdout",
          "text": [
            "Ingresa un número entero: 6\n",
            "El factorial de 6 es 720\n"
          ]
        }
      ]
    },
    {
      "cell_type": "markdown",
      "source": [
        "15.Define un diccionario que contenga los nombres y saldos de cuentas bancarias. Escribe una función que encuentre la cuenta con el saldo más alto."
      ],
      "metadata": {
        "id": "C93freX7F9HK"
      }
    },
    {
      "cell_type": "code",
      "source": [
        "Cuenta_Bancaria = {\"Maria\":1000000, \"Juan\": 500000, \"Laura\": 3000000, \"Miguel\": 70000} # Se define un diccionario con el nombre de la cuenta y su saldo\n",
        "\n",
        "def Cuenta_Saldo_Alto(Cuentas): # Se crea una función que busque el valor más alto de las cuentas y retorne con el nombre y valor de la misma\n",
        "  Cuenta_Saldo_Max = None\n",
        "  Saldo_Max = float('-inf')\n",
        "\n",
        "  for Cuenta, Saldo in Cuentas.items():\n",
        "    if Saldo > Saldo_Max:\n",
        "      Saldo_Max = Saldo\n",
        "      Cuenta_Saldo_Max = Cuenta\n",
        "\n",
        "  return Cuenta_Saldo_Max, Saldo_Max\n",
        "\n",
        "Cuenta_Saldo_Max, Saldo_Max = Cuenta_Saldo_Alto(Cuenta_Bancaria) # Se crea la función para encontrar el saldo más alto\n",
        "print(f\"La cuenta con el saldo más alto es {Cuenta_Saldo_Max} con un saldo de {Saldo_Max}.\") # Imprimir el saldo más alto"
      ],
      "metadata": {
        "id": "3DBjFNWsHXgQ",
        "colab": {
          "base_uri": "https://localhost:8080/"
        },
        "outputId": "b88c6fb7-7013-4f0a-aae4-0ca3eed43e7e"
      },
      "execution_count": null,
      "outputs": [
        {
          "output_type": "stream",
          "name": "stdout",
          "text": [
            "La cuenta con el saldo más alto es Laura con un saldo de 3000000.\n"
          ]
        }
      ]
    },
    {
      "cell_type": "markdown",
      "source": [
        "16.Escribe un programa que calcule e imprima los primeros\n",
        " números triangulares a discresión del usuario."
      ],
      "metadata": {
        "id": "0rIUu0uwGDTh"
      }
    },
    {
      "cell_type": "code",
      "source": [
        "Numero = int(input(\"Ingrese la cantidad de números:\")) # El usuario debe escribir la cantidad de números\n",
        "\n",
        "Resultado={}   # Realizar una ecuación que devuelve dependiendo de la cantidad el valor de cada número triangular\n",
        "for i in range(1,Numero+1):\n",
        "  Resultado[i]=(i*(i+1)/2)\n",
        "\n",
        "for i in Resultado:\n",
        "  print(i,Resultado[i])  # Imprimir valores triangulares"
      ],
      "metadata": {
        "colab": {
          "base_uri": "https://localhost:8080/"
        },
        "id": "Ika2nk4ZFgLv",
        "outputId": "639abf5a-ef3e-442d-96f1-da54e49caaaf"
      },
      "execution_count": null,
      "outputs": [
        {
          "output_type": "stream",
          "name": "stdout",
          "text": [
            "Ingrese la cantidad de números:10\n",
            "1 1.0\n",
            "2 3.0\n",
            "3 6.0\n",
            "4 10.0\n",
            "5 15.0\n",
            "6 21.0\n",
            "7 28.0\n",
            "8 36.0\n",
            "9 45.0\n",
            "10 55.0\n"
          ]
        }
      ]
    },
    {
      "cell_type": "markdown",
      "source": [
        "17.Crea una función calcular_descuento que calcule el precio final después de aplicar un descuento a un artículo."
      ],
      "metadata": {
        "id": "O7l9ffeLGHwM"
      }
    },
    {
      "cell_type": "code",
      "source": [
        "def calcular_descuento(precio_original, porcentaje_descuento):\n",
        "    if porcentaje_descuento < 0 or porcentaje_descuento > 100: #Verifica si el prcentaje esta fuera del rango establecido.\n",
        "        raise ValueError(\"El porcentaje de descuento debe estar entre 0 y 100\")\n",
        "\n",
        "    descuento = precio_original * (porcentaje_descuento / 100)   #Se calcula el valor del descuento\n",
        "    precio_final = precio_original - descuento\n",
        "    return precio_final\n",
        "\n",
        "precio_original = float(input(\"Ingrese el precio original del artículo: \"))  #Se necesita que el usuario ingrese el precio original.\n",
        "porcentaje_descuento = float(input(\"Ingrese el porcentaje de descuento: \"))  #Se necesita que el usuario ingrese el descuento.\n",
        "\n",
        "precio_final = calcular_descuento(precio_original, porcentaje_descuento)\n",
        "print(\"El precio final después de aplicar un\", porcentaje_descuento, \"% de descuento es:\", precio_final)\n"
      ],
      "metadata": {
        "colab": {
          "base_uri": "https://localhost:8080/"
        },
        "id": "_mK8orM2GLas",
        "outputId": "af578589-3dfc-473b-8b13-40e6ef51c6c1"
      },
      "execution_count": null,
      "outputs": [
        {
          "output_type": "stream",
          "name": "stdout",
          "text": [
            "Ingrese el precio original del artículo: 300000\n",
            "Ingrese el porcentaje de descuento: 15\n",
            "El precio final después de aplicar un 15.0 % de descuento es: 255000.0\n"
          ]
        }
      ]
    },
    {
      "cell_type": "markdown",
      "source": [
        "18.Escribe una función que tome una lista de números y devuelva una nueva lista con solo los números pares."
      ],
      "metadata": {
        "id": "ZgUkYlb-q4b4"
      }
    },
    {
      "cell_type": "code",
      "source": [
        "def obtener_numeros_pares(lista): #Toma una lista de números como entrada, llamada lista\n",
        "    numeros_pares = [numero for numero in lista if numero % 2 == 0] # Se utiliza una comprensión de lista para filtrar y guardar los números pares de la lista original.\n",
        "    return numeros_pares\n",
        "\n",
        "numeros = [4, 1, 3, 2, 4, 6, 3, 34, 3, 21, 8, 78, 6, 60] #Se define la lista numeros\n",
        "numeros_pares = obtener_numeros_pares(numeros)\n",
        "print(\"Números pares:\", numeros_pares)  #Se imprime la lista numeros, mostrando los numeros pares resultantes."
      ],
      "metadata": {
        "colab": {
          "base_uri": "https://localhost:8080/"
        },
        "id": "lRBn0atTq2-7",
        "outputId": "6409507c-a07d-430c-b496-216984382183"
      },
      "execution_count": null,
      "outputs": [
        {
          "output_type": "stream",
          "name": "stdout",
          "text": [
            "Números pares: [4, 2, 4, 6, 34, 8, 78, 6, 60]\n"
          ]
        }
      ]
    },
    {
      "cell_type": "markdown",
      "source": [
        "19.Crea una lista de números y utiliza una función para encontrar el número más grande y el más pequeño."
      ],
      "metadata": {
        "id": "VKVNo0k8oc3a"
      }
    },
    {
      "cell_type": "code",
      "source": [
        "def encontrar_numero_mas_grande(lista): #encontrar_numero_mas_grande busca y devuelve el número más grande en una lista usando un bucle for.\n",
        "    maximo = lista[0]\n",
        "    for numero in lista:\n",
        "        if numero > maximo:\n",
        "            maximo = numero\n",
        "    return maximo\n",
        "\n",
        "def encontrar_numero_mas_pequeno(lista):  #'encontrar_numero_mas_pequeno halla y devuelve el número más pequeño en una lista utilizando un enfoque similar al anterior.\n",
        "    minimo = lista[0]\n",
        "    for numero in lista:\n",
        "        if numero < minimo:\n",
        "            minimo = numero\n",
        "    return minimo\n",
        "\n",
        "l2 = [4, 1, 3, 2, 4, 6, 3, 34, 3, 21, 8, 78, 6, 60]  #Se define la lista l2 que contiene varios números.\n",
        "\n",
        "numero_mas_grande = encontrar_numero_mas_grande(l2)\n",
        "numero_mas_pequeno = encontrar_numero_mas_pequeno(l2)\n",
        "\n",
        "print(\"La lista de números:\", l2)\n",
        "print(\"El número más grande es:\", numero_mas_grande)\n",
        "print(\"El número más pequeño es:\", numero_mas_pequeno)\n"
      ],
      "metadata": {
        "id": "YZK0gmhLofsn",
        "colab": {
          "base_uri": "https://localhost:8080/"
        },
        "outputId": "5840c03c-143e-44f9-867a-d0695a1834b9"
      },
      "execution_count": null,
      "outputs": [
        {
          "output_type": "stream",
          "name": "stdout",
          "text": [
            "La lista de números: [4, 1, 3, 2, 4, 6, 3, 34, 3, 21, 8, 78, 6, 60]\n",
            "El número más grande es: 78\n",
            "El número más pequeño es: 1\n"
          ]
        }
      ]
    },
    {
      "cell_type": "markdown",
      "source": [
        "20.Escribe un programa que genere e imprima los primeros n términos de la secuencia de números de Pell a discresión del usuario."
      ],
      "metadata": {
        "id": "7J-STtflJooL"
      }
    },
    {
      "cell_type": "code",
      "source": [
        "Numero = int(input(\"Ingrese la cantidad de números de la secuencia de Pell para calcular:\")) # El usuario debe diligenciar la cantidad de números para la secuencia\n",
        "\n",
        "def Secuencia_Pell(n): # Se realiza la ecuación que define la secuencia dependiendo de los números\n",
        "  if n == 0:\n",
        "    return 0\n",
        "  elif n == 1:\n",
        "    return 1\n",
        "  else:\n",
        "    return 2 * Secuencia_Pell(n - 1) +  Secuencia_Pell(n - 2)\n",
        "\n",
        "for i in range(Numero): # Con base en la cantidad de números diligenciados se devuelve la secuencia\n",
        "  print(f\"P({i})= {Secuencia_Pell(i)}\")"
      ],
      "metadata": {
        "id": "CR02BGVUq1YJ",
        "colab": {
          "base_uri": "https://localhost:8080/"
        },
        "outputId": "439467bd-453f-49cc-d29e-dd962a3ef6f4"
      },
      "execution_count": null,
      "outputs": [
        {
          "output_type": "stream",
          "name": "stdout",
          "text": [
            "Ingrese la cantidad de números de la secuencia de Pell para calcular:30\n",
            "P(0)= 0\n",
            "P(1)= 1\n",
            "P(2)= 2\n",
            "P(3)= 5\n",
            "P(4)= 12\n",
            "P(5)= 29\n",
            "P(6)= 70\n",
            "P(7)= 169\n",
            "P(8)= 408\n",
            "P(9)= 985\n",
            "P(10)= 2378\n",
            "P(11)= 5741\n",
            "P(12)= 13860\n",
            "P(13)= 33461\n",
            "P(14)= 80782\n",
            "P(15)= 195025\n",
            "P(16)= 470832\n",
            "P(17)= 1136689\n",
            "P(18)= 2744210\n",
            "P(19)= 6625109\n",
            "P(20)= 15994428\n",
            "P(21)= 38613965\n",
            "P(22)= 93222358\n",
            "P(23)= 225058681\n",
            "P(24)= 543339720\n",
            "P(25)= 1311738121\n",
            "P(26)= 3166815962\n",
            "P(27)= 7645370045\n",
            "P(28)= 18457556052\n",
            "P(29)= 44560482149\n"
          ]
        }
      ]
    },
    {
      "cell_type": "markdown",
      "source": [
        "21.Crea una función calcular_amortizacion que calcule la amortización de un préstamo a lo largo del tiempo."
      ],
      "metadata": {
        "id": "ttYyUhxlJzLn"
      }
    },
    {
      "cell_type": "code",
      "source": [
        "Valor_Inicial = float(input(\"Cantidad del préstamo:\")) # Variable valor inicial del préstamo\n",
        "Cuotas = float(input(\"Cuotas de amortización:\")) # Variable  de las cuotas de amortización\n",
        "Años_transcurridos = float(input(\"Cantidad de años transcurridos:\")) # Variable cantidad de años transcurridos\n",
        "\n",
        "Amortización = Valor_Inicial - (Cuotas*Años_transcurridos) # Calcular amortización\n",
        "\n",
        "print(\"Amortización:\", Amortización) # Imprimir valor de la amortización"
      ],
      "metadata": {
        "colab": {
          "base_uri": "https://localhost:8080/"
        },
        "id": "IRLjq0PnF9Uk",
        "outputId": "8b71bdb6-fc21-481a-ca75-0f176bae8654"
      },
      "execution_count": null,
      "outputs": [
        {
          "output_type": "stream",
          "name": "stdout",
          "text": [
            "Cantidad del préstamo:60000000\n",
            "Cuotas de amortización:12\n",
            "Cantidad de años transcurridos:1\n",
            "Amortización: 59999988.0\n"
          ]
        }
      ]
    },
    {
      "cell_type": "markdown",
      "source": [
        "22.Escribe un programa que determine si un número dado es un número perfecto o no."
      ],
      "metadata": {
        "id": "ANbIdrkHsOZQ"
      }
    },
    {
      "cell_type": "code",
      "source": [
        "def es_numero_perfecto(numero):   #La función toma un número llamado numero como entrada.\n",
        "    suma_divisores = 0    #Inicia suma_divisores en 0 para acumular divisores propios del número\n",
        "\n",
        "    for divisor in range(1, numero):\n",
        "        if numero % divisor == 0:\n",
        "            suma_divisores += divisor\n",
        "    return suma_divisores == numero\n",
        "\n",
        "# Pedir al usuario ingresar un número\n",
        "numero = int(input(\"Ingrese un número: \"))\n",
        "\n",
        "if es_numero_perfecto(numero):\n",
        "    print(numero, \"es un número perfecto.\")\n",
        "else:\n",
        "    print(numero, \"no es un número perfecto.\")"
      ],
      "metadata": {
        "colab": {
          "base_uri": "https://localhost:8080/"
        },
        "id": "bFI8dcyHsNI9",
        "outputId": "7521643e-4bfd-453d-9a7c-5e929b1bec9b"
      },
      "execution_count": null,
      "outputs": [
        {
          "output_type": "stream",
          "name": "stdout",
          "text": [
            "Ingrese un número: 28\n",
            "28 es un número perfecto.\n"
          ]
        }
      ]
    },
    {
      "cell_type": "markdown",
      "source": [
        "23.Define un diccionario que almacene las tasas de interés para diferentes tipos de préstamos. Pide al usuario que ingrese un tipo de préstamo y muestra la tasa de interés correspondiente.\n",
        "\n"
      ],
      "metadata": {
        "id": "9lDHZ-EUJ5SC"
      }
    },
    {
      "cell_type": "code",
      "source": [
        "Tipo_de_préstamos = {\"Personales\": 10.3,\"Hipotecarios\": 13.2, \"Estudios\":7.9, \"Empresas\": 11.7} # Crear lista de tipos de préstamos\n",
        "Tipo_de_préstamo = input(\"¿Qué préstamo necesitas?:\").title() # El usuario debe diligenciar el tipo de préstamo que necesita\n",
        "print(\"De acuerdo a tu préstamo:\", Tipo_de_préstamo, \"Tu tasa de interés es:\", Tipo_de_préstamos[Tipo_de_préstamo]) # Imprimir la tasa de interés con base en el tipo de préstamo"
      ],
      "metadata": {
        "colab": {
          "base_uri": "https://localhost:8080/"
        },
        "id": "eW6i0VneHEjc",
        "outputId": "07641fe6-daf6-440c-b9ad-2bc5a535aad7"
      },
      "execution_count": null,
      "outputs": [
        {
          "output_type": "stream",
          "name": "stdout",
          "text": [
            "¿Qué préstamo necesitas?:personales\n",
            "De acuerdo a tu préstamo: Personales Tu tasa de interés es: 10.3\n"
          ]
        }
      ]
    },
    {
      "cell_type": "markdown",
      "source": [
        "24.Escribe una función calcular_media_geometrica que calcule la media geométrica de una lista de números.\n",
        "\n"
      ],
      "metadata": {
        "id": "mjnjmOByJ__8"
      }
    },
    {
      "cell_type": "code",
      "source": [
        "import math\n",
        "\n",
        "def calcular_media_geometrica(lista):\n",
        "    producto = 1\n",
        "    for numero in lista:\n",
        "        producto *= numero\n",
        "\n",
        "    media_geometrica = math.pow(producto, 1 / len(lista))\n",
        "    return media_geometrica\n",
        "\n",
        "numeros = [3, 5, 9, 18]\n",
        "media_geo = calcular_media_geometrica(numeros)\n",
        "print(\"La media geométrica de la lista es:\", media_geo)\n"
      ],
      "metadata": {
        "colab": {
          "base_uri": "https://localhost:8080/"
        },
        "id": "Hx_5e1R7sBcg",
        "outputId": "b57bea67-7941-4cb1-ff04-7e2a7148e2e2"
      },
      "execution_count": null,
      "outputs": [
        {
          "output_type": "stream",
          "name": "stdout",
          "text": [
            "La media geométrica de la lista es: 7.021041957962148\n"
          ]
        }
      ]
    },
    {
      "cell_type": "markdown",
      "source": [
        "25.Crea una lista de números y utiliza una función para encontrar el segundo número más grande."
      ],
      "metadata": {
        "id": "iAVUfuCBKEtY"
      }
    },
    {
      "cell_type": "code",
      "source": [
        "def segundo_numero_mas_grande(lista): #La función toma una lista de números como entrada, llamada lista.\n",
        "    maximo = max(lista)    #Utiliza la función max(lista) para encontrar el número más grande.\n",
        "    lista.remove(maximo)  #Utiliza lista.remove(maximo) para eliminar el primer número más grande de la lista\n",
        "    segundo_maximo = max(lista) #Se usa max(lista) nuevamente para obtener el segundo número más grande.\n",
        "    return segundo_maximo  #La función devuelve este segundo número más grande.\n",
        "\n",
        "l5 = [42, 15, 34, 28, 88, 64, 35, 34, 3, 21, 85, 78, 67, 60]  #Se define la lista l5 que contiene varios números.\n",
        "\n",
        "segundo_numero_grande = segundo_numero_mas_grande(l5)\n",
        "\n",
        "print(\"La lista de números:\", l5)\n",
        "print(\"El segundo número más grande es:\", segundo_numero_grande)"
      ],
      "metadata": {
        "colab": {
          "base_uri": "https://localhost:8080/"
        },
        "id": "SlHJyXD1KtNb",
        "outputId": "159b90ba-4096-4161-b5fe-7a70f41f9dd4"
      },
      "execution_count": null,
      "outputs": [
        {
          "output_type": "stream",
          "name": "stdout",
          "text": [
            "La lista de números: [42, 15, 34, 28, 64, 35, 34, 3, 21, 85, 78, 67, 60]\n",
            "El segundo número más grande es: 85\n"
          ]
        }
      ]
    },
    {
      "cell_type": "markdown",
      "source": [
        "26.Escribe un programa que calcule e imprima los primeros n números de la serie de los números de Lucas a discresión del usuario."
      ],
      "metadata": {
        "id": "MQcnJWVtKMGX"
      }
    },
    {
      "cell_type": "code",
      "source": [
        "Numero = int(input(\"Ingrese la cantidad de números de la secuencia de Lucas para calcular:\")) # El usuario debe escribir la cantidad de números para la secuencia de Lucas\n",
        "\n",
        "def Secuencia_Lucas(n): # Se realiza la ecuación que define la secuencia dependiendo de los números\n",
        "  if n == 0:\n",
        "    return 2\n",
        "  elif n == 1:\n",
        "    return 1\n",
        "  else:\n",
        "    return Secuencia_Lucas(n - 1) +  Secuencia_Lucas(n - 2)\n",
        "\n",
        "for i in range(Numero): # Con base en la cantidad de números diligenciados se devuelve la secuencia\n",
        "  print(f\"L({i})= {Secuencia_Lucas(i)}\")"
      ],
      "metadata": {
        "colab": {
          "base_uri": "https://localhost:8080/"
        },
        "id": "sdkVNMgMHdBz",
        "outputId": "6d6c9899-3f5b-469e-c192-2ecec955f0c5"
      },
      "execution_count": null,
      "outputs": [
        {
          "output_type": "stream",
          "name": "stdout",
          "text": [
            "Ingrese la cantidad de números de la secuencia de Lucas para calcular:4\n",
            "L(0)= 2\n",
            "L(1)= 1\n",
            "L(2)= 3\n",
            "L(3)= 4\n"
          ]
        }
      ]
    },
    {
      "cell_type": "markdown",
      "source": [
        "27.Crea una función calcular_cuota_mensual que calcule la cuota mensual de un préstamo hipotecario."
      ],
      "metadata": {
        "id": "JKZSKw-6KUy0"
      }
    },
    {
      "cell_type": "code",
      "source": [
        "def calcular_cuota_mensual(monto_prestamo, tasa_interes_anual, plazo_anios):\n",
        "    tasa_interes_mensual = tasa_interes_anual / 12 / 100  # Se Convierte la tasa anual a mensual y en porcentaje decimal\n",
        "    plazo_meses = plazo_anios * 12  # Se Convierte el plazo de años a meses\n",
        "\n",
        "    # Se calcula la cuota mensual utilizando la fórmula de la cuota de préstamo hipotecario\n",
        "    cuota_mensual = (monto_prestamo * tasa_interes_mensual) / (1 - (1 + tasa_interes_mensual)**(-plazo_meses))\n",
        "\n",
        "    # Redondear la cuota a dos decimales\n",
        "    cuota_mensual = round(cuota_mensual, 2)\n",
        "\n",
        "    return cuota_mensual\n",
        "\n",
        "monto = 400000  # Monto del préstamo en dólares\n",
        "tasa_anual = 5.5  # Tasa de interés anual en porcentaje\n",
        "plazo = 30  # Plazo del préstamo en años\n",
        "\n",
        "cuota = calcular_cuota_mensual(monto, tasa_anual, plazo)\n",
        "print(\"La cuota mensual del préstamo es:\", cuota)\n"
      ],
      "metadata": {
        "colab": {
          "base_uri": "https://localhost:8080/"
        },
        "id": "U0fbNIW5rEMO",
        "outputId": "21b1b86e-7d56-433c-c04e-ecf3046d382a"
      },
      "execution_count": null,
      "outputs": [
        {
          "output_type": "stream",
          "name": "stdout",
          "text": [
            "La cuota mensual del préstamo es: 2271.16\n"
          ]
        }
      ]
    },
    {
      "cell_type": "markdown",
      "source": [
        "28.Escribe una función que determine si un número es un número de Armstrong (un número de n dígitos que es igual a la suma de sus dígitos elevados a la n).\n",
        "\n"
      ],
      "metadata": {
        "id": "UTnJhWa6KZdx"
      }
    },
    {
      "cell_type": "code",
      "source": [
        "Numero = int(input(\"Ingrese un número:\")) # El usuario debe escribir el número que quiere comprobar\n",
        "\n",
        "def Número_Armstrong(n):  # Se realiza la ecuación que calcula los numeros de Armstrong\n",
        "  num_str = str(n)\n",
        "  num_digits = len(num_str)\n",
        "  armstrong_sum = sum(int(digit)**num_digits for digit in num_str)\n",
        "  return Número_Armstrong == n\n",
        "\n",
        "if Número_Armstrong(Numero): # Con base en el número diligenciado y la ecuación, se determina si el número es de Armstrong o no\n",
        "    print(f\"{Numero} es un número de Armstrong.\")\n",
        "else:\n",
        "    print(f\"{Numero} no es un número de Armstrong.\")"
      ],
      "metadata": {
        "colab": {
          "base_uri": "https://localhost:8080/"
        },
        "id": "qoW3hwcrHtpi",
        "outputId": "0126efeb-d080-4d2a-b578-fd10de2380cd"
      },
      "execution_count": null,
      "outputs": [
        {
          "output_type": "stream",
          "name": "stdout",
          "text": [
            "Ingrese un número:30\n",
            "30 no es un número de Armstrong.\n"
          ]
        }
      ]
    },
    {
      "cell_type": "markdown",
      "source": [
        "29.Define un diccionario que almacene los símbolos de moneda y sus respectivos códigos. Escribe un programa que convierta una cantidad de dinero de una moneda a otra."
      ],
      "metadata": {
        "id": "MhiVPxQsKdQu"
      }
    },
    {
      "cell_type": "code",
      "source": [
        "monedas = {\n",
        "    'USD': 'Dólar estadounidense',\n",
        "    'EUR': 'Euro',                     # Se definine el diccionario de monedas y códigos\n",
        "    'JPY': 'Yen japonés',\n",
        "    'GBP': 'Libra esterlina',\n",
        "}\n",
        "\n",
        "tasas_conversion = {\n",
        "    'USD': 1.0,                  # Se definine las tasas de conversión\n",
        "    'EUR': 0.85,\n",
        "    'JPY': 110.88,\n",
        "    'GBP': 0.72,\n",
        "}\n",
        "\n",
        "def convertir_moneda(cantidad, moneda_origen, moneda_destino):   #Se define los argumentos\n",
        "    if moneda_origen not in tasas_conversion or moneda_destino not in tasas_conversion:    #Verifica si la moneda esta en el diccionario\n",
        "        return None  # Moneda no soportada\n",
        "    tasa_origen = tasas_conversion[moneda_origen]\n",
        "    tasa_destino = tasas_conversion[moneda_destino]\n",
        "    cantidad_convertida = cantidad * (tasa_destino / tasa_origen)\n",
        "    return cantidad_convertida\n",
        "\n",
        "moneda_origen = input(\"Ingresa la moneda de origen (USD, EUR, JPY, GBP, etc.): \").upper()    # El programa pide monedas y cantidad al usuario, convierte si es posible y muestra el resultado o error\n",
        "moneda_destino = input(\"Ingresa la moneda de destino (USD, EUR, JPY, GBP, etc.): \").upper()\n",
        "cantidad = float(input(\"Ingresa la cantidad de dinero: \"))\n",
        "\n",
        "cantidad_convertida = convertir_moneda(cantidad, moneda_origen, moneda_destino)\n",
        "\n",
        "if cantidad_convertida is None:\n",
        "    print(\"Una o ambas monedas no son soportadas.\")\n",
        "else:\n",
        "    print(f\"{cantidad} {monedas[moneda_origen]} equivale a {cantidad_convertida:.2f} {monedas[moneda_destino]}\")\n"
      ],
      "metadata": {
        "colab": {
          "base_uri": "https://localhost:8080/"
        },
        "id": "VZZH-xyhHyoQ",
        "outputId": "886e5c24-294a-4c19-a79c-97ed4c2fffc7"
      },
      "execution_count": null,
      "outputs": [
        {
          "output_type": "stream",
          "name": "stdout",
          "text": [
            "Ingresa la moneda de origen (USD, EUR, JPY, GBP, etc.): EUR\n",
            "Ingresa la moneda de destino (USD, EUR, JPY, GBP, etc.): JPY\n",
            "Ingresa la cantidad de dinero: 450\n",
            "450.0 Euro equivale a 58701.18 Yen japonés\n"
          ]
        }
      ]
    },
    {
      "cell_type": "markdown",
      "source": [
        "30.Crea una función que calcule la desviación estándar de una lista de números."
      ],
      "metadata": {
        "id": "Dzg5zG38qQQZ"
      }
    },
    {
      "cell_type": "code",
      "source": [
        "import math     # se importa math.sqrt() para la raíz cuadrada en el cálculo de la desviación estándar.\n",
        "\n",
        "def calcular_desviacion_estandar(lista):  #La función recibe una lista de números como argumento\n",
        "    if len(lista) == 0:                   #Si la lista está vacía (len(lista) == 0), muestra un error con un mensaje.\n",
        "        raise ValueError(\"La lista no puede estar vacía\")\n",
        "\n",
        "    media = sum(lista) / len(lista)    # Se calcula la media dividiendo la suma de todos los números en la lista (sum(lista)) entre la cantidad total de números en la lista (len(lista)).\n",
        "    suma_cuadrados = sum((numero - media)**2 for numero in lista)  #Calcula la suma de cuadrados de las diferencias entre los números y la media usando una expresión generadora y la función sum().\n",
        "\n",
        "    varianza = suma_cuadrados / len(lista) #Se calcula la varianza dividiendo la suma de los cuadrados de las diferencias entre la media y cada número por la cantidad total de números.\n",
        "    desviacion_estandar = math.sqrt(varianza) #Calcula la desviación estándar como la raíz cuadrada de la varianza, utilizando math.sqrt(varianza).\n",
        "    return desviacion_estandar\n",
        "\n",
        "numeros = [15, 75, 48, 30, 83, 15, 28, 10]\n",
        "desviacion = calcular_desviacion_estandar(numeros)\n",
        "\n",
        "print(\"La lista de números:\", numeros)\n",
        "print(\"La desviación estándar es:\", desviacion)"
      ],
      "metadata": {
        "id": "THcR-Q3fqRrp",
        "colab": {
          "base_uri": "https://localhost:8080/"
        },
        "outputId": "2bf01419-9be1-4d7f-8a5c-50108255d590"
      },
      "execution_count": null,
      "outputs": [
        {
          "output_type": "stream",
          "name": "stdout",
          "text": [
            "La lista de números: [15, 75, 48, 30, 83, 15, 28, 10]\n",
            "La desviación estándar es: 26.22022120425379\n"
          ]
        }
      ]
    }
  ]
}