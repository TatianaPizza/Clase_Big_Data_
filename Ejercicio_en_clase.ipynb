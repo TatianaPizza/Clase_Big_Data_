{
  "nbformat": 4,
  "nbformat_minor": 0,
  "metadata": {
    "colab": {
      "provenance": []
    },
    "kernelspec": {
      "name": "python3",
      "display_name": "Python 3"
    },
    "language_info": {
      "name": "python"
    }
  },
  "cells": [
    {
      "cell_type": "code",
      "source": [
        "def division(a, b, c):\n",
        "  if type (a)== int and type (b)== int and type (c)== int:\n",
        "    suma = a + b\n",
        "    if c==0:\n",
        "      print(\"no se puede divir entre 0\")\n",
        "    else:\n",
        "      print(suma / c)\n",
        "  else:\n",
        "    print(\"Alguno de los dos numeros no es entero\")\n"
      ],
      "metadata": {
        "id": "ztAvQ9c4eMvd"
      },
      "execution_count": 11,
      "outputs": []
    },
    {
      "cell_type": "code",
      "source": [
        "division(0.5,5,4)"
      ],
      "metadata": {
        "colab": {
          "base_uri": "https://localhost:8080/"
        },
        "id": "_QLTtViTklQ3",
        "outputId": "0c4f6e38-b505-41b9-dbed-d2304ea25555"
      },
      "execution_count": 13,
      "outputs": [
        {
          "output_type": "stream",
          "name": "stdout",
          "text": [
            "Alguno de los dos numeros no es entero\n"
          ]
        }
      ]
    },
    {
      "cell_type": "code",
      "source": [],
      "metadata": {
        "id": "HeeqPV7_nz3C"
      },
      "execution_count": null,
      "outputs": []
    }
  ]
}